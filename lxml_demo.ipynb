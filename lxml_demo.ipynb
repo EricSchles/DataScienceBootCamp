{
 "metadata": {
  "name": ""
 },
 "nbformat": 3,
 "nbformat_minor": 0,
 "worksheets": [
  {
   "cells": [
    {
     "cell_type": "code",
     "collapsed": false,
     "input": [
      "import requests #pip install\n",
      "from unidecode import unidecode\n",
      "import lxml.html #pip install\n",
      "r = requests.get(\"https://www.google.com\")\n",
      "#print type(r.text)\n",
      "text = unidecode(r.text)\n",
      "#print type(text)\n",
      "\n",
      "#print text[18500:] #this is a terrible idea\n",
      "\n",
      "html_obj = lxml.html.fromstring(text)\n",
      "links = html_obj.xpath(\"//a\")\n",
      "links_values = [elem.values() for elem in links]\n",
      "#print links_values\n",
      "#print links_values[0]\n",
      "#print links_values[0][1]\n",
      "\n",
      "#links_values = [elem.values() for elem in links]\n",
      "\n",
      "# <==>\n",
      "\n",
      "#links_values = []\n",
      "#for elem in links:\n",
      "#    links_values.append(elem.values())\n",
      "\n",
      "#motivating the need for unidecode - you will forget, don't\n",
      "\n",
      "#links_text = [str(elem.text_content()) for elem in links] #another reason we need to decode\n",
      "#print type(links_text)\n",
      "\n",
      "links_text = [unidecode(elem.text_content()) for elem in links]\n",
      "links_str = [str(elem) for elem in links_text] \n",
      "print type(links_str[0])\n",
      "\n",
      "#don't skip ahead!\n",
      "links_iter = [elem.iterlinks() for elem in links]\n",
      "\n",
      "hyperlink_mapping = {}\n",
      "\n",
      "for gen in links_iter:\n",
      "    i = [elem for elem in gen]\n",
      "    i = i[0]\n",
      "    print i[0].text_content(), i[2]\n",
      "    hyperlink_mapping[i[0].text_content()] = i[2]\n",
      "\n",
      "#print hyperlink_mapping['+Google']"
     ],
     "language": "python",
     "metadata": {},
     "outputs": [
      {
       "output_type": "stream",
       "stream": "stdout",
       "text": [
        "<type 'str'>\n"
       ]
      }
     ],
     "prompt_number": 7
    }
   ],
   "metadata": {}
  }
 ]
}