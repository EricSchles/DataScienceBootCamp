{
 "metadata": {
  "name": ""
 },
 "nbformat": 3,
 "nbformat_minor": 0,
 "worksheets": [
  {
   "cells": [
    {
     "cell_type": "code",
     "collapsed": false,
     "input": [
      "# Model\n",
      "\n",
      "#family_size, teenage_children, young_children, college_age_children, city_suburb_rural, foodie_or_not, income, state\n",
      "\n",
      "#teenage_children\n",
      "#young_children"
     ],
     "language": "python",
     "metadata": {},
     "outputs": []
    }
   ],
   "metadata": {}
  }
 ]
}