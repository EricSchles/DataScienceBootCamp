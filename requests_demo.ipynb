{
 "metadata": {
  "name": ""
 },
 "nbformat": 3,
 "nbformat_minor": 0,
 "worksheets": [
  {
   "cells": [
    {
     "cell_type": "code",
     "collapsed": false,
     "input": [
      "import requests #pip install\n",
      "from unidecode import unidecode #pip install\n",
      "r = requests.get(\"https://www.google.com\")\n",
      "#print r.status_code\n",
      "#print dir(r)\n",
      "#print type(r.text)\n",
      "\n",
      "text = unidecode(r.text)\n",
      "#print type(text)\n",
      "\n",
      "print text[18500:] #google search bar \"did you mean?\", \"I'm feeling lucky\", \"Learn more\", \"Search by image\", \"Google Search\"\n"
     ],
     "language": "python",
     "metadata": {},
     "outputs": [
      {
       "output_type": "stream",
       "stream": "stdout",
       "text": [
        ".t.xjsls=new Date().getTime();}google.dljp('/xjs/_/js/k\\x3dxjs.hp.en_US.KTH4JcSTmvs.O/m\\x3dsb_he,pcc/rt\\x3dj/d\\x3d1/t\\x3dzcms/rs\\x3dAItRSTP5uo_ohHIc0WPRkqJN_5sj14cHsQ');google.xjs=1;}google.pmc={\"sb_he\":{\"agen\":true,\"cgen\":true,\"client\":\"heirloom-hp\",\"dh\":true,\"ds\":\"\",\"eqch\":true,\"fl\":true,\"host\":\"google.com\",\"jam\":0,\"jsonp\":true,\"msgs\":{\"cibl\":\"Clear Search\",\"dym\":\"Did you mean:\",\"lcky\":\"I\\u0026#39;m Feeling Lucky\",\"lml\":\"Learn more\",\"oskt\":\"Input tools\",\"psrc\":\"This search was removed from your \\u003Ca href=\\\"/history\\\"\\u003EWeb History\\u003C/a\\u003E\",\"psrl\":\"Remove\",\"sbit\":\"Search by image\",\"srch\":\"Google Search\"},\"ovr\":{},\"pq\":\"\",\"qcpw\":false,\"refoq\":true,\"scd\":10,\"sce\":5,\"stok\":\"tk_YXiJGSz9l-y0PzrWgIJiLFW8\"},\"pcc\":{}};google.y.first.push(function(){if(google.med){google.med('init');google.initHistory();google.med('history');}});if(google.j&&google.j.en&&google.j.xi){window.setTimeout(google.j.xi,0);}</script></div></body></html>\n"
       ]
      }
     ],
     "prompt_number": 5
    }
   ],
   "metadata": {}
  }
 ]
}