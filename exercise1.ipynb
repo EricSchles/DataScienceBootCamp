{
 "metadata": {
  "name": ""
 },
 "nbformat": 3,
 "nbformat_minor": 0,
 "worksheets": [
  {
   "cells": [
    {
     "cell_type": "code",
     "collapsed": false,
     "input": [
      "import requests\n",
      "import lxml.html\n",
      "from unidecode import unidecode\n",
      "\n",
      "r = requests.get(\"http://www.baseball-reference.com/\")\n",
      "html = lxml.html.fromstring(r.text)\n",
      "table_name = html.xpath('//td/a[@href=\"/leagues/NL/2014.shtml\"]')\n",
      "table_name_parsed = [unidecode(elem.text_content()) for elem in table_name]\n",
      "#print table_name_parsed\n",
      "\n",
      "table_head = html.xpath('//div[@id=\"div_NL_standings\"]//thead//th')\n",
      "table_head_parsed = [] #[elem.text_content() for elem in table_body]\n",
      "for indx,elem in enumerate(table_head):\n",
      "    elem = unidecode(elem.text_content())\n",
      "    elem = str(elem)\n",
      "    if indx%5 == 0 and indx != 0:\n",
      "        elem += \"\\n\"\n",
      "    table_head_parsed.append(elem)\n",
      "#print table_head_parsed\n",
      "\n",
      "\n",
      "table_body = html.xpath('//div[@id=\"div_NL_standings\"]//tbody//td')\n",
      "table_body_parsed = [] #[elem.text_content() for elem in table_body]\n",
      "for indx,elem in enumerate(table_body):\n",
      "    elem = unidecode(elem.text_content())\n",
      "    elem = elem.__str__()\n",
      "    if indx%6 == 0 and indx != 0:\n",
      "        elem = \"\\n\" + elem\n",
      "    table_body_parsed.append(elem)\n",
      "#print table_body_parsed\n",
      "\n",
      "ignore = ['Cent','West','W','L','GB','SRS']\n",
      "ignore_flag = False \n",
      "with open(\"national_league_table.csv\",\"w\") as f:\n",
      "    #f.write(table_name_parsed[0]+\"\\n\")\n",
      "    for elem in table_head_parsed:\n",
      "        if not \"\\n\" in elem:\n",
      "            elem += \", \"\n",
      "        f.write(elem)\n",
      "    for elem in table_body_parsed:\n",
      "        ignore_flag = False\n",
      "        for i in ignore:\n",
      "            if i in elem:\n",
      "                ignore_flag = True\n",
      "        if ignore_flag:\n",
      "            continue\n",
      "        if not \"\\n\" in elem:\n",
      "            elem += \", \"\n",
      "        f.write(elem)\n",
      "        "
     ],
     "language": "python",
     "metadata": {},
     "outputs": [],
     "prompt_number": 40
    }
   ],
   "metadata": {}
  }
 ]
}