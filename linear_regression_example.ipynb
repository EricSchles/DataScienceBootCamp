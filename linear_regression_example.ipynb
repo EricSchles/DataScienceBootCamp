{
 "metadata": {
  "name": ""
 },
 "nbformat": 3,
 "nbformat_minor": 0,
 "worksheets": [
  {
   "cells": [
    {
     "cell_type": "code",
     "collapsed": false,
     "input": [
      "print __doc__\n",
      "\n",
      "\n",
      "# Code source: Jaques Grobler\n",
      "# License: BSD\n",
      "\n",
      "\n",
      "import pylab as pl\n",
      "import numpy as np\n",
      "from sklearn import datasets, linear_model\n",
      "\n",
      "# Load the diabetes dataset\n",
      "diabetes = datasets.load_diabetes()\n",
      "\n",
      "\n",
      "# Use only one feature\n",
      "diabetes_X = diabetes.data[:, np.newaxis]\n",
      "diabetes_X_temp = diabetes_X[:, :, 2]\n",
      "\n",
      "# Split the data into training/testing sets\n",
      "diabetes_X_train = diabetes_X_temp[:-20]\n",
      "diabetes_X_test = diabetes_X_temp[-20:]\n",
      "\n",
      "from sklearn.datasets.samples_generator import make_regression\n",
      "\n",
      "# this is our test set, it's just a straight line with some\n",
      "# gaussian noise\n",
      "X, Y = make_regression(n_samples=100, n_features=1, n_informative=1,\\\n",
      "                        random_state=0, noise=35)\n",
      "\n",
      "\n",
      "# Split the targets into training/testing sets\n",
      "diabetes_y_train = diabetes.target[:-20]\n",
      "diabetes_y_test = diabetes.target[-20:]\n",
      "\n",
      "# Create linear regression object\n",
      "regr = linear_model.LinearRegression()\n",
      "\n",
      "# Train the model using the training sets\n",
      "regr.fit(diabetes_X_train, diabetes_y_train)\n",
      "\n",
      "# The coefficients\n",
      "print 'Coefficients: \\n', regr.coef_\n",
      "# The mean square error\n",
      "print (\"Residual sum of squares: %.2f\" %\n",
      "        np.mean((regr.predict(diabetes_X_test) - diabetes_y_test) ** 2))\n",
      "# Explained variance score: 1 is perfect prediction\n",
      "print ('Variance score: %.2f' % regr.score(diabetes_X_test, diabetes_y_test))\n",
      "\n",
      "# Plot outputs\n",
      "pl.scatter(diabetes_X_test, diabetes_y_test,  color='black')\n",
      "pl.plot(diabetes_X_test, regr.predict(diabetes_X_test), color='blue',\n",
      "        linewidth=3)\n",
      "\n",
      "pl.xticks(())\n",
      "pl.yticks(())\n",
      "\n",
      "pl.show()"
     ],
     "language": "python",
     "metadata": {},
     "outputs": [
      {
       "output_type": "stream",
       "stream": "stdout",
       "text": [
        "Automatically created module for IPython interactive environment\n",
        "Coefficients: \n"
       ]
      }
     ],
     "prompt_number": "*"
    }
   ],
   "metadata": {}
  }
 ]
}