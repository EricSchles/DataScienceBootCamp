{
 "metadata": {
  "name": ""
 },
 "nbformat": 3,
 "nbformat_minor": 0,
 "worksheets": [
  {
   "cells": [
    {
     "cell_type": "code",
     "collapsed": false,
     "input": [
      "#A simple approach to creating features in text\n",
      "\n",
      "class frequency:\n",
      "    def __init__(self,text):\n",
      "        self.text = text.split(\" \")\n",
      "        self.freqs = self.__freq()\n",
      "        self.rel_freqs = self.__prob_word()\n",
      "        \n",
      "    def __freq(self):\n",
      "        frequencies = {}\n",
      "        for word in self.text:\n",
      "            if word == \" \":\n",
      "                continue\n",
      "            if word == '':\n",
      "                continue\n",
      "            if not word in frequencies.keys():\n",
      "                frequencies[word] = 1\n",
      "            else:\n",
      "                frequencies[word] += 1\n",
      "        return frequencies\n",
      "    \n",
      "    def __prob_word(self):\n",
      "        sum_freq = 0\n",
      "        rel_freq = {}\n",
      "        for word in self.freqs.keys():\n",
      "            sum_freq += self.freqs[word]\n",
      "        for word in self.freqs.keys():\n",
      "            rel_freq[word] = self.freqs[word]/float(sum_freq)\n",
      "        return rel_freq\n",
      "    \n",
      "    def result(self):\n",
      "        return self.rel_freqs\n",
      "    \n",
      "f = frequency(\"This is some text, it's not very exciting, but I'll take it.  And I'll share it with the world.  We can do so much with this text.\")\n",
      "#print f.result()\n",
      "\n",
      "#or do this:\n",
      "\n",
      "import collections, re\n",
      "texts = ['John likes to watch movies. Mary likes too.',\n",
      "   'John also likes to watch football games.']\n",
      "bagsofwords = [ collections.Counter(re.findall(r'\\w+', txt))\n",
      "            for txt in texts]\n",
      "#print bagsofwords[0]\n",
      "#print bagsofwords[1]\n",
      "sumbags = sum(bagsofwords, collections.Counter())\n",
      "total_words = sum([len(elem) for elem in texts]) \n",
      "print total_words\n",
      "relbags =  {elem:sumbags[elem]/float(total_words) for elem in sumbags.keys()}\n",
      "#print relbags\n",
      " "
     ],
     "language": "python",
     "metadata": {},
     "outputs": [
      {
       "output_type": "stream",
       "stream": "stdout",
       "text": [
        "83\n"
       ]
      }
     ],
     "prompt_number": 5
    },
    {
     "cell_type": "code",
     "collapsed": false,
     "input": [],
     "language": "python",
     "metadata": {},
     "outputs": []
    }
   ],
   "metadata": {}
  }
 ]
}