{
 "metadata": {
  "name": ""
 },
 "nbformat": 3,
 "nbformat_minor": 0,
 "worksheets": [
  {
   "cells": [
    {
     "cell_type": "code",
     "collapsed": false,
     "input": [
      "from text.classifiers import NaiveBayesClassifier as nb\n",
      "\n",
      "train = [\n",
      "    ('I love this sandwich.', 'pos'),\n",
      "    ('this is an amazing place!', 'pos'),\n",
      "    ('I feel very good about these beers.', 'pos'),\n",
      "    ('this is my best work.', 'pos'),\n",
      "    (\"what an awesome view\", 'pos'),\n",
      "    ('I do not like this restaurant', 'neg'),\n",
      "    ('I am tired of this stuff.', 'neg'),\n",
      "    (\"I can't deal with this\", 'neg'),\n",
      "    ('he is my sworn enemy!', 'neg'),\n",
      "    ('my boss is horrible.', 'neg')\n",
      "]\n",
      "\n",
      "test = [\n",
      "    ('the beer was good.', 'pos'),\n",
      "    ('I do not enjoy my job', 'neg'),\n",
      "    (\"I ain't feeling dandy today.\", 'neg'),\n",
      "    (\"I feel amazing!\", 'pos'),\n",
      "    ('Gary is a friend of mine.', 'pos'),\n",
      "    (\"I can't believe I'm doing this.\", 'neg')\n",
      " ]\n",
      "    \n",
      "cl = nb(train)\n",
      "\n",
      "#cl.classify(\"This is an amazing library!\")\n",
      "#cl.classify(\"This is a bad place.\")\n",
      "#cl.classify(\"I feel great\")\n",
      "cl.classify(\"it's raining\")"
     ],
     "language": "python",
     "metadata": {},
     "outputs": [
      {
       "metadata": {},
       "output_type": "pyout",
       "prompt_number": 4,
       "text": [
        "'pos'"
       ]
      }
     ],
     "prompt_number": 4
    }
   ],
   "metadata": {}
  }
 ]
}